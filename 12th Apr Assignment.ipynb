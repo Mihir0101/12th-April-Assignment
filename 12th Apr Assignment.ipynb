{
 "cells": [
  {
   "cell_type": "markdown",
   "id": "093d2e54-426c-42ab-8357-3087ab10ebf0",
   "metadata": {},
   "source": [
    "# 12th April Assignment"
   ]
  },
  {
   "cell_type": "code",
   "execution_count": null,
   "id": "dc11fa47-e409-4905-bfcf-4a75dfb81639",
   "metadata": {},
   "outputs": [],
   "source": []
  },
  {
   "cell_type": "markdown",
   "id": "d43f30b9-dcc3-422b-99d7-e394173a2863",
   "metadata": {},
   "source": [
    "## Q1. How does bagging reduce overfitting in decision trees?"
   ]
  },
  {
   "cell_type": "markdown",
   "id": "5ae87b77-ebe7-4ced-9fd4-aebfe10ac423",
   "metadata": {},
   "source": [
    "- > In bagging technique we parallely train the decision trees and also assign d'(Parts of Dataset) to the models randomly.\n",
    "\n",
    "- > Because of all models have different data,so they gain different expertise from it.\n",
    "\n",
    "- > At the end of the process when we pass the new data in all model and all model will predict accordingly its expertise.For regression problem we will take average of all           output and for classification we will take most frequent output.\n",
    "\n",
    "- > By this technique we get combined and good output.\n",
    "\n",
    "- > This is how we reduce overfitting in decision trees."
   ]
  },
  {
   "cell_type": "code",
   "execution_count": null,
   "id": "c7616cdc-d8dc-4a43-823f-0246dfdce668",
   "metadata": {},
   "outputs": [],
   "source": []
  },
  {
   "cell_type": "markdown",
   "id": "477f8d11-1427-4c52-bcfc-ff3b4f0d2ade",
   "metadata": {},
   "source": [
    "## Q2. What are the advantages and disadvantages of using different types of base learners in bagging?"
   ]
  },
  {
   "cell_type": "markdown",
   "id": "4931d8d8-893c-433a-ae12-459da0bda015",
   "metadata": {},
   "source": [
    "* Advantages\n",
    "\n",
    "- > We get advantages of all different models.\n",
    "\n",
    "- > It helps to reduce overfitting and in creating generalized model.\n",
    "\n",
    "- > Bagging is a versatile technique,it can be applied on different types of base learners.\n",
    "\n",
    "* Disadvantages\n",
    "\n",
    "- > If any model perform well on specific data and other will not,so accuracy would be decrease because of it.\n",
    "\n",
    "- > It takes more time in training than other models.\n",
    "\n",
    "- > If the base learneres are too similar with each other so the benifit of model can be limited."
   ]
  },
  {
   "cell_type": "code",
   "execution_count": null,
   "id": "b2b120d7-cfec-4569-aa38-c3000f7bc0b3",
   "metadata": {},
   "outputs": [],
   "source": []
  },
  {
   "cell_type": "markdown",
   "id": "88a3df53-c4b3-43bf-abd5-14316d5a27db",
   "metadata": {},
   "source": [
    "## Q3. How does the choice of base learner affect the bias-variance tradeoff in bagging?"
   ]
  },
  {
   "cell_type": "markdown",
   "id": "2121db7c-261a-445f-89ee-c52051284abd",
   "metadata": {},
   "source": [
    "- > Bagging typically has more effect on reducing variance than bias.\n",
    "\n",
    "- > While bagging can reduce the variance,it is crucial to consider that overall bias-variance tradeoff.If there is improvement in variance so we can so a slight increament in\n",
    "    bias,especially when base learners are biased.\n",
    "    \n",
    "- > The effectiveness of bagging relies on diversity among all models.The more diverse the models,the more effectively it can balance bias and variance.\n",
    "\n",
    "- > Models with more differnt sources of error can contribute for more robust ensemble."
   ]
  },
  {
   "cell_type": "code",
   "execution_count": null,
   "id": "270f9d54-63ec-465f-990a-14a9d3bd42a2",
   "metadata": {},
   "outputs": [],
   "source": []
  },
  {
   "cell_type": "markdown",
   "id": "32d54f80-85b0-4aaa-9f08-22b70985c35c",
   "metadata": {},
   "source": [
    "## Q4. Can bagging be used for both classification and regression tasks? How does it differ in each case?"
   ]
  },
  {
   "cell_type": "markdown",
   "id": "d815575c-5840-4f55-b359-331ed05d5b01",
   "metadata": {},
   "source": [
    "- > Yes,bagging can be used for both classification and regression model.\n",
    "\n",
    "* Difference\n",
    "\n",
    "- > We use different regression model for regression problem and classification models for classification problem.\n",
    "\n",
    "- > For new data we take most frequent output for classification problem and average output for regression model."
   ]
  },
  {
   "cell_type": "code",
   "execution_count": null,
   "id": "c75f97f7-ae72-4692-ab79-ef34a91541a7",
   "metadata": {},
   "outputs": [],
   "source": []
  },
  {
   "cell_type": "markdown",
   "id": "94b4d6eb-17c1-451f-ad52-2332772b4e0e",
   "metadata": {},
   "source": [
    "## Q5. What is the role of ensemble size in bagging? How many models should be included in the ensemble?"
   ]
  },
  {
   "cell_type": "markdown",
   "id": "ce470051-ea67-4438-8f00-3e0584eee14e",
   "metadata": {},
   "source": [
    "* Role of Ensemble Size\n",
    "\n",
    "- > Primary goal of bagging is to reduce variance,more size of ensemble may decrease the effect of variance.If we add more diversified models the variance will decrease but after certain point if we add models impact might be limited.\n",
    "\n",
    "- > A larger ensemble size can lead more stable and robust model.\n",
    "\n",
    "- > If ensemble size increases the computational cost also increase for traing the data and predicting the data.\n",
    "\n",
    "- > It is better to having moderate ensemble with highly-quilified base learners than large ensemble with less-quilified base learners.\n",
    "\n",
    "* Ensemble sizes on the order of 50 to 500 models are commonly used. However, the optimal size can vary based on the specific characteristics of the problem."
   ]
  },
  {
   "cell_type": "code",
   "execution_count": null,
   "id": "b75dc81b-b13b-4941-8b0a-64e57c990646",
   "metadata": {},
   "outputs": [],
   "source": []
  },
  {
   "cell_type": "markdown",
   "id": "51c9506e-6252-4ae9-b34e-83de41b430f6",
   "metadata": {},
   "source": [
    "## Q6. Can you provide an example of a real-world application of bagging in machine learning?"
   ]
  },
  {
   "cell_type": "markdown",
   "id": "e3e48c99-382c-4df5-840f-3f1c4fea6dc3",
   "metadata": {},
   "source": [
    "* Medical Diagnosis\n",
    "\n",
    "* Stock Market Forecasting\n",
    "\n",
    "* Credit Card Fraud Detection"
   ]
  },
  {
   "cell_type": "code",
   "execution_count": null,
   "id": "3f84bada-3501-4934-959e-f56e7671017e",
   "metadata": {},
   "outputs": [],
   "source": []
  }
 ],
 "metadata": {
  "kernelspec": {
   "display_name": "Python 3 (ipykernel)",
   "language": "python",
   "name": "python3"
  },
  "language_info": {
   "codemirror_mode": {
    "name": "ipython",
    "version": 3
   },
   "file_extension": ".py",
   "mimetype": "text/x-python",
   "name": "python",
   "nbconvert_exporter": "python",
   "pygments_lexer": "ipython3",
   "version": "3.10.8"
  }
 },
 "nbformat": 4,
 "nbformat_minor": 5
}
